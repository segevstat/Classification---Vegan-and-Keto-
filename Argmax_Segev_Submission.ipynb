{
 "cells": [
  {
   "cell_type": "markdown",
   "id": "b534d8d2-9a3f-4f56-8c37-546b4a6ec4bf",
   "metadata": {},
   "source": [
    "# Keto/Vegan Diet classifier\n",
    "Argmax, a consulting firm specializing in search and recommendation solutions with offices in New York and Israel, is hiring entry-level Data Scientists and Machine Learning Engineers.\n",
    "\n",
    "At Argmax, we prioritize strong coding skills and a proactive, “get-things-done” attitude over a perfect resume. As part of our selection process, candidates are required to complete a coding task demonstrating their practical abilities.\n",
    "\n",
    "In this task, you’ll work with a large recipe dataset sourced from Allrecipes.com. Your challenge will be to classify recipes based on their ingredients, accurately identifying keto (low-carb) and vegan (no animal products) dishes.\n",
    "\n",
    "Successfully completing this assignment is a crucial step toward joining Argmax’s talented team."
   ]
  },
  {
   "cell_type": "code",
   "execution_count": 1,
   "id": "f79f7a48",
   "metadata": {},
   "outputs": [],
   "source": [
    "# !pip install opensearch-py\n"
   ]
  },
  {
   "cell_type": "code",
   "execution_count": 2,
   "id": "06ec2a6e",
   "metadata": {},
   "outputs": [],
   "source": [
    "# !pip install python-decouple\n"
   ]
  },
  {
   "cell_type": "code",
   "execution_count": null,
   "id": "6dac963d-5cec-4b96-96b8-ee47984f3c40",
   "metadata": {},
   "outputs": [],
   "source": [
    "from opensearchpy import OpenSearch\n",
    "from decouple import config\n",
    "import pandas as pd\n",
    "from opensearchpy import OpenSearch\n",
    "import json\n",
    "import sys\n",
    "from argparse import ArgumentParser\n",
    "from typing import List\n",
    "from time import time\n",
    "import pandas as pd\n",
    "from sklearn.metrics import classification_report\n",
    "import unittest\n",
    "import unittest"
   ]
  },
  {
   "cell_type": "markdown",
   "id": "b8e8e91d",
   "metadata": {},
   "source": [
    "# Local instrustions:"
   ]
  },
  {
   "cell_type": "markdown",
   "id": "b8564596",
   "metadata": {},
   "source": [
    "open http://localhost:9200/"
   ]
  },
  {
   "cell_type": "markdown",
   "id": "46806ee4",
   "metadata": {},
   "source": [
    "RUN on BASH\n",
    "\n",
    "docker start opensearch-dev\n"
   ]
  },
  {
   "cell_type": "markdown",
   "id": "951cf0f5",
   "metadata": {},
   "source": [
    "OR ,\n",
    "\n",
    "RUN \n",
    "\n",
    "docker run -d --name opensearch-dev -p 9200:9200 -p 9600:9600 -e \"discovery.type=single-node\" -e \"plugins.security.disabled=true\" opensearchproject/opensearch:2.11.1\n",
    "\n",
    "\n",
    "ON CMD"
   ]
  },
  {
   "cell_type": "markdown",
   "id": "6b80cc29",
   "metadata": {},
   "source": [
    "AND THEN RUN\n",
    "\n",
    "\n",
    " docker ps\n",
    "\n",
    "\n",
    "ON CMD"
   ]
  },
  {
   "cell_type": "code",
   "execution_count": 4,
   "id": "7fd13b98",
   "metadata": {},
   "outputs": [],
   "source": [
    "\n",
    "client = OpenSearch(\n",
    "    hosts=['http://localhost:9200'],\n",
    "    http_auth=('admin', 'Segev2025!'),\n",
    "    use_ssl=False,\n",
    "    verify_certs=False,\n",
    "    ssl_show_warn=False\n",
    ")\n",
    "\n",
    "\n"
   ]
  },
  {
   "cell_type": "code",
   "execution_count": 5,
   "id": "ddc68f36",
   "metadata": {},
   "outputs": [
    {
     "data": {
      "text/plain": [
       "{'_shards': {'total': 2, 'successful': 1, 'failed': 0}}"
      ]
     },
     "execution_count": 5,
     "metadata": {},
     "output_type": "execute_result"
    }
   ],
   "source": [
    "\n",
    "if not client.indices.exists(index=\"recipes\"):\n",
    "    client.indices.create(index=\"recipes\")\n",
    "\n",
    "doc = {\n",
    "    \"description\": \"This is a simple egg recipe\"\n",
    "}\n",
    "client.index(index=\"recipes\", id=1, body=doc)\n",
    "\n",
    "client.indices.refresh(index=\"recipes\")\n",
    "\n"
   ]
  },
  {
   "cell_type": "code",
   "execution_count": 6,
   "id": "d9f5ed3b",
   "metadata": {},
   "outputs": [],
   "source": [
    "\n",
    "query = {\n",
    "    \"query\": {\n",
    "        \"match\": {\n",
    "            \"description\": \"egg\"\n",
    "        }\n",
    "    }\n",
    "}\n",
    "res = client.search(index=\"recipes\", body=query)\n",
    "\n",
    "\n"
   ]
  },
  {
   "cell_type": "code",
   "execution_count": 7,
   "id": "06937faa",
   "metadata": {},
   "outputs": [
    {
     "data": {
      "text/plain": [
       "{'took': 181,\n",
       " 'timed_out': False,\n",
       " '_shards': {'total': 1, 'successful': 1, 'skipped': 0, 'failed': 0},\n",
       " 'hits': {'total': {'value': 1, 'relation': 'eq'},\n",
       "  'max_score': 0.2876821,\n",
       "  'hits': [{'_index': 'recipes',\n",
       "    '_id': '1',\n",
       "    '_score': 0.2876821,\n",
       "    '_source': {'description': 'This is a simple egg recipe'}}]}}"
      ]
     },
     "execution_count": 7,
     "metadata": {},
     "output_type": "execute_result"
    }
   ],
   "source": [
    "res"
   ]
  },
  {
   "cell_type": "code",
   "execution_count": 8,
   "id": "b03b8eda",
   "metadata": {},
   "outputs": [
    {
     "data": {
      "text/plain": [
       "{'total': {'value': 1, 'relation': 'eq'},\n",
       " 'max_score': 0.2876821,\n",
       " 'hits': [{'_index': 'recipes',\n",
       "   '_id': '1',\n",
       "   '_score': 0.2876821,\n",
       "   '_source': {'description': 'This is a simple egg recipe'}}]}"
      ]
     },
     "execution_count": 8,
     "metadata": {},
     "output_type": "execute_result"
    }
   ],
   "source": [
    "res['hits']"
   ]
  },
  {
   "cell_type": "code",
   "execution_count": 9,
   "id": "ac957208",
   "metadata": {},
   "outputs": [
    {
     "data": {
      "text/plain": [
       "[{'_index': 'recipes',\n",
       "  '_id': '1',\n",
       "  '_score': 0.2876821,\n",
       "  '_source': {'description': 'This is a simple egg recipe'}}]"
      ]
     },
     "execution_count": 9,
     "metadata": {},
     "output_type": "execute_result"
    }
   ],
   "source": [
    "res['hits']['hits']"
   ]
  },
  {
   "cell_type": "code",
   "execution_count": 10,
   "id": "6034cb08",
   "metadata": {},
   "outputs": [],
   "source": [
    "hits = res['hits']['hits']"
   ]
  },
  {
   "cell_type": "code",
   "execution_count": 11,
   "id": "aa0b6df2",
   "metadata": {},
   "outputs": [
    {
     "data": {
      "text/html": [
       "<div>\n",
       "<style scoped>\n",
       "    .dataframe tbody tr th:only-of-type {\n",
       "        vertical-align: middle;\n",
       "    }\n",
       "\n",
       "    .dataframe tbody tr th {\n",
       "        vertical-align: top;\n",
       "    }\n",
       "\n",
       "    .dataframe thead th {\n",
       "        text-align: right;\n",
       "    }\n",
       "</style>\n",
       "<table border=\"1\" class=\"dataframe\">\n",
       "  <thead>\n",
       "    <tr style=\"text-align: right;\">\n",
       "      <th></th>\n",
       "      <th>_index</th>\n",
       "      <th>_id</th>\n",
       "      <th>_score</th>\n",
       "      <th>_source</th>\n",
       "    </tr>\n",
       "  </thead>\n",
       "  <tbody>\n",
       "    <tr>\n",
       "      <th>0</th>\n",
       "      <td>recipes</td>\n",
       "      <td>1</td>\n",
       "      <td>0.287682</td>\n",
       "      <td>{'description': 'This is a simple egg recipe'}</td>\n",
       "    </tr>\n",
       "  </tbody>\n",
       "</table>\n",
       "</div>"
      ],
      "text/plain": [
       "    _index _id    _score                                         _source\n",
       "0  recipes   1  0.287682  {'description': 'This is a simple egg recipe'}"
      ]
     },
     "execution_count": 11,
     "metadata": {},
     "output_type": "execute_result"
    }
   ],
   "source": [
    " pd.DataFrame(hits)"
   ]
  },
  {
   "cell_type": "code",
   "execution_count": 12,
   "id": "eb1094c0",
   "metadata": {},
   "outputs": [
    {
     "data": {
      "text/html": [
       "<div>\n",
       "<style scoped>\n",
       "    .dataframe tbody tr th:only-of-type {\n",
       "        vertical-align: middle;\n",
       "    }\n",
       "\n",
       "    .dataframe tbody tr th {\n",
       "        vertical-align: top;\n",
       "    }\n",
       "\n",
       "    .dataframe thead th {\n",
       "        text-align: right;\n",
       "    }\n",
       "</style>\n",
       "<table border=\"1\" class=\"dataframe\">\n",
       "  <thead>\n",
       "    <tr style=\"text-align: right;\">\n",
       "      <th></th>\n",
       "      <th>took</th>\n",
       "      <th>timed_out</th>\n",
       "      <th>_shards</th>\n",
       "      <th>hits</th>\n",
       "    </tr>\n",
       "  </thead>\n",
       "  <tbody>\n",
       "    <tr>\n",
       "      <th>total</th>\n",
       "      <td>181</td>\n",
       "      <td>False</td>\n",
       "      <td>1.0</td>\n",
       "      <td>{'value': 1, 'relation': 'eq'}</td>\n",
       "    </tr>\n",
       "    <tr>\n",
       "      <th>successful</th>\n",
       "      <td>181</td>\n",
       "      <td>False</td>\n",
       "      <td>1.0</td>\n",
       "      <td>NaN</td>\n",
       "    </tr>\n",
       "    <tr>\n",
       "      <th>skipped</th>\n",
       "      <td>181</td>\n",
       "      <td>False</td>\n",
       "      <td>0.0</td>\n",
       "      <td>NaN</td>\n",
       "    </tr>\n",
       "    <tr>\n",
       "      <th>failed</th>\n",
       "      <td>181</td>\n",
       "      <td>False</td>\n",
       "      <td>0.0</td>\n",
       "      <td>NaN</td>\n",
       "    </tr>\n",
       "    <tr>\n",
       "      <th>max_score</th>\n",
       "      <td>181</td>\n",
       "      <td>False</td>\n",
       "      <td>NaN</td>\n",
       "      <td>0.287682</td>\n",
       "    </tr>\n",
       "    <tr>\n",
       "      <th>hits</th>\n",
       "      <td>181</td>\n",
       "      <td>False</td>\n",
       "      <td>NaN</td>\n",
       "      <td>[{'_index': 'recipes', '_id': '1', '_score': 0...</td>\n",
       "    </tr>\n",
       "  </tbody>\n",
       "</table>\n",
       "</div>"
      ],
      "text/plain": [
       "            took  timed_out  _shards  \\\n",
       "total        181      False      1.0   \n",
       "successful   181      False      1.0   \n",
       "skipped      181      False      0.0   \n",
       "failed       181      False      0.0   \n",
       "max_score    181      False      NaN   \n",
       "hits         181      False      NaN   \n",
       "\n",
       "                                                         hits  \n",
       "total                          {'value': 1, 'relation': 'eq'}  \n",
       "successful                                                NaN  \n",
       "skipped                                                   NaN  \n",
       "failed                                                    NaN  \n",
       "max_score                                            0.287682  \n",
       "hits        [{'_index': 'recipes', '_id': '1', '_score': 0...  "
      ]
     },
     "execution_count": 12,
     "metadata": {},
     "output_type": "execute_result"
    }
   ],
   "source": [
    "pd.DataFrame(res)"
   ]
  },
  {
   "cell_type": "markdown",
   "id": "661a80e5-9686-4917-9c2d-37097a04f133",
   "metadata": {},
   "source": [
    "# Recipes Index\n",
    "Our data is stored in OpenSearch, and you can query it using either Elasticsearch syntax or SQL.\n",
    "## Elasticsearch Syntax"
   ]
  },
  {
   "cell_type": "code",
   "execution_count": 13,
   "id": "8a08de01-88a9-4eb2-82ca-4017661a2a95",
   "metadata": {},
   "outputs": [
    {
     "data": {
      "text/plain": [
       "[{'_index': 'recipes',\n",
       "  '_id': '1',\n",
       "  '_score': 0.2876821,\n",
       "  '_source': {'description': 'This is a simple egg recipe'}}]"
      ]
     },
     "execution_count": 13,
     "metadata": {},
     "output_type": "execute_result"
    }
   ],
   "source": [
    "query = {\n",
    "    \"query\": {\n",
    "        \"match\": {\n",
    "            \"description\": { \"query\": \"egg\" }\n",
    "        }\n",
    "    }\n",
    "}\n",
    "\n",
    "res = client.search(\n",
    "    index=\"recipes\",\n",
    "    body=query,\n",
    "    size=2\n",
    ")\n",
    "\n",
    "hits = res['hits']['hits']\n",
    "hits "
   ]
  },
  {
   "cell_type": "code",
   "execution_count": 14,
   "id": "fca6741d",
   "metadata": {},
   "outputs": [
    {
     "data": {
      "text/plain": [
       "{'took': 27,\n",
       " 'timed_out': False,\n",
       " '_shards': {'total': 1, 'successful': 1, 'skipped': 0, 'failed': 0},\n",
       " 'hits': {'total': {'value': 1, 'relation': 'eq'},\n",
       "  'max_score': 0.2876821,\n",
       "  'hits': [{'_index': 'recipes',\n",
       "    '_id': '1',\n",
       "    '_score': 0.2876821,\n",
       "    '_source': {'description': 'This is a simple egg recipe'}}]}}"
      ]
     },
     "execution_count": 14,
     "metadata": {},
     "output_type": "execute_result"
    }
   ],
   "source": [
    "res"
   ]
  },
  {
   "cell_type": "markdown",
   "id": "e18b6028-8800-4c26-841d-7126307c2910",
   "metadata": {},
   "source": [
    "## SQL syntax"
   ]
  },
  {
   "cell_type": "code",
   "execution_count": 15,
   "id": "1efad212-e64b-434f-b4fa-da6a7237cb41",
   "metadata": {},
   "outputs": [
    {
     "data": {
      "text/html": [
       "<div>\n",
       "<style scoped>\n",
       "    .dataframe tbody tr th:only-of-type {\n",
       "        vertical-align: middle;\n",
       "    }\n",
       "\n",
       "    .dataframe tbody tr th {\n",
       "        vertical-align: top;\n",
       "    }\n",
       "\n",
       "    .dataframe thead th {\n",
       "        text-align: right;\n",
       "    }\n",
       "</style>\n",
       "<table border=\"1\" class=\"dataframe\">\n",
       "  <thead>\n",
       "    <tr style=\"text-align: right;\">\n",
       "      <th></th>\n",
       "      <th>description</th>\n",
       "    </tr>\n",
       "  </thead>\n",
       "  <tbody>\n",
       "    <tr>\n",
       "      <th>0</th>\n",
       "      <td>This is a simple egg recipe</td>\n",
       "    </tr>\n",
       "  </tbody>\n",
       "</table>\n",
       "</div>"
      ],
      "text/plain": [
       "                   description\n",
       "0  This is a simple egg recipe"
      ]
     },
     "execution_count": 15,
     "metadata": {},
     "output_type": "execute_result"
    }
   ],
   "source": [
    "query = \"\"\"\n",
    "SELECT *\n",
    "FROM recipes\n",
    "WHERE description like '%egg%'\n",
    "---LIMIT 10\n",
    "\"\"\"\n",
    "\n",
    "res = client.sql.query(body={'query': query})\n",
    "\n",
    "df = pd.DataFrame(res[\"datarows\"], columns=[c[\"name\"] for c in res[\"schema\"]])\n",
    "df"
   ]
  },
  {
   "cell_type": "markdown",
   "id": "c231d388-c526-45c5-b5b8-f905d311dee6",
   "metadata": {},
   "source": [
    "# Task Instructions\n",
    "\n",
    "Your goal is to implement two classifiers:\n",
    "\n",
    "1.\tVegan Meal Classifier\n",
    "1.\tKeto Meal Classifier\n",
    "\n",
    "Unlike typical supervised machine learning tasks, the labels are not provided in the dataset. Instead, you will rely on clear and verifiable definitions to classify each meal based on its ingredients.\n",
    "\n",
    "### Definitions:\n",
    "\n",
    "1. **Vegan Meal**: Contains no animal products whatsoever (no eggs, milk, meat, etc.).\n",
    "1. **Keto Meal**: Contains no ingredients with more than 10g of carbohydrates per 100g serving. For example, eggs are keto-friendly, while apples are not.\n",
    "\n",
    "Note that some meals may meet both vegan and keto criteria (e.g., meals containing avocados), though most meals typically fall into neither category.\n",
    "\n",
    "## Example heuristic:"
   ]
  },
  {
   "cell_type": "code",
   "execution_count": 17,
   "id": "f995ef55-5a9e-40d5-bad3-50cace31eaa2",
   "metadata": {},
   "outputs": [],
   "source": [
    "def is_ingredient_vegan(ing):\n",
    "    for animal_product in \"egg meat milk butter veel lamb beef chicken sausage\".split():\n",
    "        if animal_product in ing:\n",
    "            return False\n",
    "    return True\n",
    "\n",
    "def is_vegan_example(ingredients):\n",
    "    return all(map(is_ingredient_vegan, ingredients))\n",
    "    \n",
    "# df[\"vegan\"] = df[\"ingredients\"].apply(is_vegan_example)\n"
   ]
  },
  {
   "cell_type": "markdown",
   "id": "9519c988-70a4-455f-b5b1-6b394566356b",
   "metadata": {},
   "source": [
    "### Limitations of the Simplistic Heuristic\n",
    "\n",
    "The heuristic described above is straightforward but can lead to numerous false positives and negatives due to its reliance on keyword matching. Common examples of incorrect classifications include:\n",
    "- \"Peanut butter\" being misclassified as non-vegan, as “butter” is incorrectly assumed to imply dairy.\n",
    "- \"eggless\" recipes being misclassified as non-vegan, due to the substring “egg.”\n",
    "- Animal-derived ingredients such as “pork” and “bacon” being incorrectly identified as vegan, as they may not be explicitly listed in the keyword set.\n",
    "\n",
    "\n",
    "# Submission\n",
    "## 1. Implement Diet Classifiers\n",
    "Complete the two classifier functions in the diet_classifiers.py file within this repository. Ensure your implementation correctly identifies “keto” and “vegan” meals. After implementing these functions, verify that the Flask server displays the appropriate badges (“keto” and “vegan”) next to the corresponding recipes.\n",
    "\n",
    "> **Note**\n",
    ">\n",
    "> This repo contains two `diet_classifiers.py` files:\n",
    "> 1. One in this folder (`nb/src/diet_classifiers.py`)\n",
    "> 2. One in the Flask web app folder (`web/src/diet_classifiers.py`)\n",
    ">\n",
    "> You can develop your solution here in the notebook environment, but to apply your solution \n",
    "> to the Flask app you will need to copy your implementation into the `diet_classifiers.py` \n",
    "> file in the Flask folder!!!"
   ]
  },
  {
   "cell_type": "code",
   "execution_count": 18,
   "id": "ca0b47e2-100e-49ab-855d-76da2d5d7bdb",
   "metadata": {},
   "outputs": [],
   "source": [
    "def is_ingredient_keto(ingredient):\n",
    "    # TODO: complete\n",
    "    return False\n",
    "\n",
    "def is_ingredient_vegan(ingredient):\n",
    "    # TODO: complete\n",
    "    return False    "
   ]
  },
  {
   "cell_type": "markdown",
   "id": "f4005d34-9604-4396-ad1a-de8ddefc1820",
   "metadata": {},
   "source": [
    "For your convenience, you can sanity check your solution on a subset of labeled recipes by running `diet_classifiers.py`"
   ]
  },
  {
   "cell_type": "code",
   "execution_count": 19,
   "id": "78f11a5e-4e50-4818-b4c2-6b34dd1489ab",
   "metadata": {},
   "outputs": [
    {
     "name": "stderr",
     "output_type": "stream",
     "text": [
      "Traceback (most recent call last):\n",
      "  File \"C:\\Users\\segev\\code_notebooks\\HTs\\diet_classifiers.py\", line 60, in <module>\n",
      "    sys.exit(main(parser.parse_args()))\n",
      "  File \"C:\\Users\\segev\\code_notebooks\\HTs\\diet_classifiers.py\", line 34, in main\n",
      "    ground_truth = pd.read_csv(args.ground_truth, index_col=None)\n",
      "  File \"C:\\Users\\segev\\anaconda3\\lib\\site-packages\\pandas\\util\\_decorators.py\", line 311, in wrapper\n",
      "    return func(*args, **kwargs)\n",
      "  File \"C:\\Users\\segev\\anaconda3\\lib\\site-packages\\pandas\\io\\parsers\\readers.py\", line 678, in read_csv\n",
      "    return _read(filepath_or_buffer, kwds)\n",
      "  File \"C:\\Users\\segev\\anaconda3\\lib\\site-packages\\pandas\\io\\parsers\\readers.py\", line 575, in _read\n",
      "    parser = TextFileReader(filepath_or_buffer, **kwds)\n",
      "  File \"C:\\Users\\segev\\anaconda3\\lib\\site-packages\\pandas\\io\\parsers\\readers.py\", line 932, in __init__\n",
      "    self._engine = self._make_engine(f, self.engine)\n",
      "  File \"C:\\Users\\segev\\anaconda3\\lib\\site-packages\\pandas\\io\\parsers\\readers.py\", line 1216, in _make_engine\n",
      "    self.handles = get_handle(  # type: ignore[call-overload]\n",
      "  File \"C:\\Users\\segev\\anaconda3\\lib\\site-packages\\pandas\\io\\common.py\", line 786, in get_handle\n",
      "    handle = open(\n",
      "FileNotFoundError: [Errno 2] No such file or directory: '/usr/src/data/ground_truth_sample.csv'\n"
     ]
    }
   ],
   "source": [
    "! python diet_classifiers.py --ground_truth /usr/src/data/ground_truth_sample.csv"
   ]
  },
  {
   "cell_type": "markdown",
   "id": "9c0cbda8-06c1-42d5-9534-7cd01c0cd951",
   "metadata": {},
   "source": [
    "## 2. Repository Setup\n",
    "Create a **private** GitHub repository for your solution, and invite the GitHub user `argmax2025` as a collaborator. **Do not** share your implementation using a **forked** repository.\n",
    "\n",
    "## 3. Application Form\n",
    "Once you’ve completed the implementation and shared your private GitHub repository with argmax2025, please fill out the appropriate application form:\n",
    "1. [US Application Form](https://forms.clickup.com/25655193/f/rexwt-1832/L0YE9OKG2FQIC3AYRR)\n",
    "2.  [IL Application Form](https://forms.clickup.com/25655193/f/rexwt-1812/IP26WXR9X4P6I4LGQ6)\n",
    "\n",
    "\n",
    "Your application will not be considered complete until this form is submitted.\n",
    "\n",
    "## Evaluation process\n",
    "\n",
    "\n",
    "Your submission will be assessed based on the following criteria:\n",
    "\n",
    "\n",
    "1.\t**Readability & Logic** – Clearly explain your approach, including your reasoning and any assumptions. If you relied on external resources (e.g., ingredient databases, nutrition datasets), be sure to cite them.\n",
    "2.\t**Executability** – Your code should run as is when cloned from your GitHub repository. Ensure that all paths are relative, syntax is correct, and no manual setup is required.\n",
    "3.\t**Accuracy** – Your classifiers will be evaluated against a holdout set of 20,000 recipes with verified labels. Performance will be compared to the ground truth.\n",
    "data.\n",
    "\n",
    "\n",
    "## Next steps\n",
    "If your submission passes the initial review, you’ll be invited to a 3-hour live coding interview, where you’ll be asked to extend and adapt your solution in real time.\n",
    "\n",
    "Please make sure you join from a quiet environment and have access to a Python-ready workstation capable of running your submitted project."
   ]
  },
  {
   "cell_type": "markdown",
   "id": "ccc5d7d3",
   "metadata": {},
   "source": [
    "# SOLUTION"
   ]
  },
  {
   "cell_type": "code",
   "execution_count": null,
   "id": "0887fbe0",
   "metadata": {},
   "outputs": [],
   "source": [
    "def is_ingredient_keto(ingredient: str) -> bool:\n",
    "    non_keto = {\n",
    "        \"sugar\", \"honey\", \"flour\", \"bread\", \"pasta\", \"rice\", \"corn\", \"potato\",\n",
    "        \"banana\", \"beans\", \"lentils\", \"quinoa\", \"chickpeas\", \"oats\"\n",
    "    }\n",
    "    return not any(word in ingredient.lower() for word in non_keto)\n",
    "\n",
    "def is_ingredient_vegan(ingredient: str) -> bool:\n",
    "    animal_products = {\n",
    "        \"egg\", \"eggs\", \"omelette\", \"meat\", \"milk\", \"cheese\", \"butter\", \"veal\", \"lamb\",\n",
    "        \"beef\", \"chicken\", \"sausage\", \"fish\", \"turkey\", \"salmon\", \"anchovy\", \"yogurt\", \"cream\"\n",
    "    }\n",
    "    words = ingredient.lower().replace(\"-\", \" \").split()\n",
    "    return not any(word in animal_products for word in words)\n",
    "\n",
    "def classify_recipe(ingredients):\n",
    "    ingredients = [ing.lower() for ing in ingredients]\n",
    "    is_vegan = all(is_ingredient_vegan(ing) for ing in ingredients)\n",
    "    is_keto = all(is_ingredient_keto(ing) for ing in ingredients)\n",
    "    \n",
    "    vegan_str = \"vegan\" if is_vegan else \"X\"\n",
    "    keto_str = \"keto\" if is_keto else \"X\"\n",
    "    return f\"{vegan_str} {keto_str}\"\n"
   ]
  },
  {
   "cell_type": "code",
   "execution_count": null,
   "id": "e5216180",
   "metadata": {},
   "outputs": [],
   "source": [
    "\n",
    "\n",
    "class TestRecipeClassification(unittest.TestCase):\n",
    "    \n",
    "    def test_is_ingredient_keto(self):\n",
    "        self.assertTrue(is_ingredient_keto(\"olive oil\"))\n",
    "        self.assertTrue(is_ingredient_keto(\"cauliflower\"))\n",
    "        self.assertFalse(is_ingredient_keto(\"sugar\"))\n",
    "        self.assertFalse(is_ingredient_keto(\"rice noodles\"))\n",
    "        self.assertFalse(is_ingredient_keto(\"potato\"))\n",
    "        self.assertTrue(is_ingredient_keto(\"almonds\"))\n",
    "\n",
    "    def test_is_ingredient_vegan(self):\n",
    "        self.assertTrue(is_ingredient_vegan(\"tofu\"))\n",
    "        self.assertTrue(is_ingredient_vegan(\"spinach\"))\n",
    "        self.assertFalse(is_ingredient_vegan(\"chicken breast\"))\n",
    "        self.assertFalse(is_ingredient_vegan(\"milk chocolate\"))\n",
    "        self.assertFalse(is_ingredient_vegan(\"eggplant omelette\"))\n",
    "        self.assertTrue(is_ingredient_vegan(\"soy sauce\"))\n",
    "\n",
    "    def test_classify_recipe(self):\n",
    "        self.assertEqual(\n",
    "            classify_recipe([\"cauliflower\", \"olive oil\", \"salt\", \"pepper\"]),\n",
    "            \"vegan keto\"\n",
    "        )\n",
    "        self.assertEqual(\n",
    "            classify_recipe([\"chicken breast\", \"olive oil\", \"garlic\"]),\n",
    "            \"X keto\"\n",
    "        )\n",
    "        self.assertEqual(\n",
    "            classify_recipe([\"flour\", \"sugar\", \"eggs\", \"milk\"]),\n",
    "            \"X X\"\n",
    "        )\n",
    "        self.assertEqual(\n",
    "            classify_recipe([\"tofu\", \"spinach\", \"soy sauce\", \"rice\"]),\n",
    "            \"vegan X\"\n",
    "        )\n",
    "\n",
    "# ✅ Jupyter-friendly runner:\n",
    "unittest.main(argv=[''], exit=False)\n"
   ]
  },
  {
   "cell_type": "code",
   "execution_count": null,
   "id": "f11486e6",
   "metadata": {},
   "outputs": [],
   "source": [
    "def classify_recipe(ingredients):\n",
    "    return {\n",
    "        \"vegan\": is_vegan(ingredients),\n",
    "        \"keto\": is_keto(ingredients)\n",
    "    }\n"
   ]
  },
  {
   "cell_type": "code",
   "execution_count": null,
   "id": "8ae4e4b8",
   "metadata": {},
   "outputs": [],
   "source": [
    "\n",
    "\n",
    "class TestRecipeClassification(unittest.TestCase):\n",
    "\n",
    "    def test_is_ingredient_keto(self):\n",
    "        self.assertTrue(is_ingredient_keto(\"avocado\"))\n",
    "        self.assertTrue(is_ingredient_keto(\"olive oil\"))\n",
    "        self.assertFalse(is_ingredient_keto(\"sugar\"))\n",
    "        self.assertFalse(is_ingredient_keto(\"pasta sauce\"))\n",
    "\n",
    "    def test_is_ingredient_vegan(self):\n",
    "        self.assertTrue(is_ingredient_vegan(\"tomato\"))\n",
    "        self.assertTrue(is_ingredient_vegan(\"lentils\"))\n",
    "        self.assertFalse(is_ingredient_vegan(\"milk chocolate\"))\n",
    "        self.assertFalse(is_ingredient_vegan(\"chicken breast\"))\n",
    "\n",
    "    def test_is_keto(self):\n",
    "        self.assertTrue(is_keto([\"avocado\", \"olive oil\", \"spinach\"]))\n",
    "        self.assertFalse(is_keto([\"avocado\", \"bread\", \"spinach\"]))\n",
    "\n",
    "    def test_is_vegan(self):\n",
    "        self.assertTrue(is_vegan([\"broccoli\", \"rice\", \"tomato\"]))\n",
    "        self.assertFalse(is_vegan([\"egg\", \"tofu\", \"rice\"]))\n",
    "\n",
    "# ✅ Jupyter-friendly test runner\n",
    "unittest.main(argv=['first-arg-is-ignored'], exit=False)\n"
   ]
  },
  {
   "cell_type": "markdown",
   "id": "c8358f78",
   "metadata": {},
   "source": [
    "# Sources"
   ]
  },
  {
   "cell_type": "markdown",
   "id": "b4ef5722",
   "metadata": {},
   "source": [
    "##  animal_products\n",
    "\n",
    "### **egg, eggs**  \n",
    "Eggs are laid by birds (not mammals), so they are poultry products and not dairy.  \n",
    "🔗 Full link: [Are Eggs Dairy? – EatingWell](https://www.eatingwell.com/article/8027576/are-eggs-dairy/)\n",
    "\n",
    "Additional sources:  \n",
    "- https://www.mashed.com  \n",
    "- https://www.nobunplease.com  \n",
    "- https://www.ketobible.net  \n",
    "- https://www.ketodietapp.com  \n",
    "- https://www.eatingwell.com  \n",
    "- https://www.nobunplease.com\n",
    "\n",
    "---\n",
    "\n",
    "### **omelette**  \n",
    "A prepared dish made entirely from eggs—thus derived from animals.\n",
    "\n",
    "---\n",
    "\n",
    "### **meat, beef, chicken, lamb, veal, turkey, fish, salmon, anchovy**  \n",
    "These are all animal flesh or muscle, making them core animal-source foods.  \n",
    "🔗 Listed under animal-based protein:  \n",
    "[Complete Keto Food List – EatingWell](https://www.eatingwell.com/article/291245/complete-keto-diet-food-list-what-you-can-and-cannot-eat-if-youre-on-a-ketogenic-diet/)\n",
    "\n",
    "Additional sources:  \n",
    "- https://blog.kettleandfire.com  \n",
    "- https://www.eatingwell.com  \n",
    "- https://www.eatingwell.com\n",
    "\n",
    "---\n",
    "\n",
    "### **sausage**  \n",
    "A processed meat product—fully animal-based (ground meat, spices).\n",
    "\n",
    "---\n",
    "\n",
    "### **milk, cheese, butter, cream, yogurt**  \n",
    "Classic dairy items, made from the milk of mammals (cows, goats, sheep).  \n",
    "🔗 Keto dairy guide:  \n",
    "[Complete Keto Food List – EatingWell](https://www.eatingwell.com/article/291245/complete-keto-diet-food-list-what-you-can-and-cannot-eat-if-youre-on-a-ketogenic-diet/)\n",
    "\n",
    "Additional source:  \n",
    "- https://www.lowfodmapeating.com\n",
    "\n",
    "---\n",
    "\n",
    "##  non_keto  \n",
    "These are rich in carbohydrates or sugars—generally avoided in a ketogenic diet.\n",
    "\n",
    "### **sugar, honey**  \n",
    "Pure simple sugars; they spike blood glucose and disrupt ketosis.  \n",
    "🔗 Listed as “avoid” on keto:  \n",
    "[Complete Keto Food List – EatingWell](https://www.eatingwell.com/article/291245/complete-keto-diet-food-list-what-you-can-and-cannot-eat-if-youre-on-a-ketogenic-diet/)\n",
    "\n",
    "Additional sources:  \n",
    "- https://www.dietdoctor.com  \n",
    "- https://www.eatingwell.com  \n",
    "- https://www.ketodietapp.com  \n",
    "- https://www.godairyfree.org\n",
    "\n",
    "---\n",
    "\n",
    "### **flour, bread, pasta, rice, corn, potato**  \n",
    "These are starchy grains/tubers with high digestible carbs—also listed under “foods to avoid”.  \n",
    "🔗 Keto exclusion list:  \n",
    "[Complete Keto Food List – EatingWell](https://www.eatingwell.com/article/291245/complete-keto-diet-food-list-what-you-can-and-cannot-eat-if-youre-on-a-ketogenic-diet/)\n",
    "\n",
    "---\n",
    "\n",
    "### **banana, beans, lentils, quinoa, chickpeas, oats**  \n",
    "All high-carb fruits, legumes, or grains—usually excluded from strict keto eating.  \n",
    "🔗 Avoided in keto meal plans:  \n",
    "[Complete Keto Food List – EatingWell](https://www.eatingwell.com/article/291245/complete-keto-diet-food-list-what-you-can-and-cannot-eat-if-youre-on-a-ketogenic-diet/)\n"
   ]
  }
 ],
 "metadata": {
  "kernelspec": {
   "display_name": "Python 3 (ipykernel)",
   "language": "python",
   "name": "python3"
  },
  "language_info": {
   "codemirror_mode": {
    "name": "ipython",
    "version": 3
   },
   "file_extension": ".py",
   "mimetype": "text/x-python",
   "name": "python",
   "nbconvert_exporter": "python",
   "pygments_lexer": "ipython3",
   "version": "3.9.13"
  }
 },
 "nbformat": 4,
 "nbformat_minor": 5
}
